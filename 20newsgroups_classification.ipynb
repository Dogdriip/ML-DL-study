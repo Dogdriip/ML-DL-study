{
  "nbformat": 4,
  "nbformat_minor": 0,
  "metadata": {
    "colab": {
      "name": "Untitled7.ipynb",
      "provenance": []
    },
    "kernelspec": {
      "name": "python3",
      "display_name": "Python 3",
      "language": "python"
    },
    "accelerator": "GPU"
  },
  "cells": [
    {
      "cell_type": "code",
      "metadata": {
        "id": "KVFU-Jv5PESd"
      },
      "source": [
        "from sklearn.datasets import fetch_20newsgroups"
      ],
      "execution_count": 1,
      "outputs": []
    },
    {
      "cell_type": "code",
      "metadata": {
        "id": "j1EMBa2RPLzi"
      },
      "source": [
        "train_news = fetch_20newsgroups(subset='train', remove=('headers', 'footers', 'quotes'))\r\n",
        "\r\n",
        "X_train = train_news.data\r\n",
        "y_train = train_news.target"
      ],
      "execution_count": 2,
      "outputs": []
    },
    {
      "cell_type": "code",
      "metadata": {
        "id": "sonu2fB-PaeS"
      },
      "source": [
        "test_news = fetch_20newsgroups(subset='test', remove=('headers', 'footers', 'quotes'))\r\n",
        "\r\n",
        "X_test = test_news.data\r\n",
        "y_test = test_news.target"
      ],
      "execution_count": 3,
      "outputs": []
    },
    {
      "cell_type": "code",
      "metadata": {
        "colab": {
          "base_uri": "https://localhost:8080/"
        },
        "id": "10vOkPLKPo-K",
        "outputId": "4b0d6201-bdd3-4ae8-850a-3b9b931d8a80"
      },
      "source": [
        "print(len(X_train), len(X_test))"
      ],
      "execution_count": 4,
      "outputs": [
        {
          "output_type": "stream",
          "name": "stdout",
          "text": [
            "11314 7532\n"
          ]
        }
      ]
    },
    {
      "cell_type": "code",
      "metadata": {
        "id": "-luB-WHKPwlw"
      },
      "source": [
        "from sklearn.feature_extraction.text import TfidfVectorizer\r\n",
        "from sklearn.linear_model import LogisticRegression\r\n",
        "from sklearn.metrics import accuracy_score\r\n",
        "from sklearn.model_selection import GridSearchCV\r\n",
        "from sklearn.pipeline import Pipeline"
      ],
      "execution_count": 5,
      "outputs": []
    },
    {
      "cell_type": "code",
      "metadata": {
        "id": "nhk5hlY-RNd4"
      },
      "source": [
        "pipeline = Pipeline([\r\n",
        "    ('tfidf_vect', TfidfVectorizer(stop_words='english', ngram_range=(1, 2), max_df=700)),\r\n",
        "    ('lr_clf', LogisticRegression())\r\n",
        "])\r\n",
        "\r\n",
        "params = {\r\n",
        "    # 'tfidf_vect__ngram_range': [(1, 1), (1, 2), (1, 3)],\r\n",
        "    # 'tfidf_vect__max_df': [100, 300, 700],\r\n",
        "    'lr_clf__C': [1, 5, 10]\r\n",
        "}"
      ],
      "execution_count": 6,
      "outputs": []
    },
    {
      "cell_type": "code",
      "metadata": {
        "colab": {
          "base_uri": "https://localhost:8080/"
        },
        "id": "SFoIp1jHRilX",
        "outputId": "41e3e1cc-67a3-4139-f0e8-47e355f9c69f"
      },
      "source": [
        "grid_cv_pipe = GridSearchCV(pipeline, param_grid=params, cv=3, scoring='accuracy', verbose=1)\r\n",
        "grid_cv_pipe.fit(X_train, y_train)\r\n",
        "print(grid_cv_pipe.best_params_, grid_cv_pipe.best_score_)"
      ],
      "execution_count": 7,
      "outputs": [
        {
          "output_type": "stream",
          "name": "stdout",
          "text": [
            "Fitting 3 folds for each of 3 candidates, totalling 9 fits\n",
            "[Parallel(n_jobs=1)]: Using backend SequentialBackend with 1 concurrent workers.\n",
            "[Parallel(n_jobs=1)]: Done   9 out of   9 | elapsed: 37.3min finished\n",
            "{'lr_clf__C': 10} 0.7548175838024161\n"
          ]
        }
      ]
    },
    {
      "cell_type": "code",
      "metadata": {
        "id": "La_0Y5pARufC"
      },
      "source": [
        "pred = grid_cv_pipe.predict(X_test)\n",
        "print('accuracy:', accuracy_score(y_test, pred))"
      ],
      "execution_count": 10,
      "outputs": [
        {
          "output_type": "stream",
          "name": "stdout",
          "text": [
            "accuracy: 0.7023366967604886\n"
          ]
        }
      ]
    },
    {
      "cell_type": "code",
      "metadata": {
        "id": "BIwrMo1bR5xI"
      },
      "source": [],
      "execution_count": null,
      "outputs": []
    }
  ]
}