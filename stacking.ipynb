{
  "nbformat": 4,
  "nbformat_minor": 0,
  "metadata": {
    "colab": {
      "name": "Untitled9.ipynb",
      "provenance": [],
      "authorship_tag": "ABX9TyN/leH0XQP/2jfbkFpmwhYK"
    },
    "kernelspec": {
      "name": "python3",
      "display_name": "Python 3"
    }
  },
  "cells": [
    {
      "cell_type": "markdown",
      "metadata": {
        "id": "bd0ss4my3vrV"
      },
      "source": [
        "# 기본 스태킹 모델"
      ]
    },
    {
      "cell_type": "code",
      "metadata": {
        "id": "lVn029B8YB6G"
      },
      "source": [
        "import numpy as np\r\n",
        "\r\n",
        "from sklearn.neighbors import KNeighborsClassifier\r\n",
        "from sklearn.ensemble import RandomForestClassifier\r\n",
        "from sklearn.ensemble import AdaBoostClassifier\r\n",
        "from sklearn.tree import DecisionTreeClassifier\r\n",
        "from sklearn.linear_model import LogisticRegression"
      ],
      "execution_count": 1,
      "outputs": []
    },
    {
      "cell_type": "code",
      "metadata": {
        "id": "pVBYQLkDYO6r"
      },
      "source": [
        "from sklearn.datasets import load_breast_cancer\r\n",
        "from sklearn.model_selection import train_test_split\r\n",
        "from sklearn.metrics import roc_auc_score"
      ],
      "execution_count": 2,
      "outputs": []
    },
    {
      "cell_type": "code",
      "metadata": {
        "id": "wB_GaqsgYXGU"
      },
      "source": [
        "cancer_data = load_breast_cancer()"
      ],
      "execution_count": 3,
      "outputs": []
    },
    {
      "cell_type": "code",
      "metadata": {
        "colab": {
          "base_uri": "https://localhost:8080/"
        },
        "id": "QdhR4u-3Yftj",
        "outputId": "75765f4e-d0ae-419b-814c-d06eebe488af"
      },
      "source": [
        "cancer_data"
      ],
      "execution_count": 4,
      "outputs": [
        {
          "output_type": "execute_result",
          "data": {
            "text/plain": [
              "{'DESCR': '.. _breast_cancer_dataset:\\n\\nBreast cancer wisconsin (diagnostic) dataset\\n--------------------------------------------\\n\\n**Data Set Characteristics:**\\n\\n    :Number of Instances: 569\\n\\n    :Number of Attributes: 30 numeric, predictive attributes and the class\\n\\n    :Attribute Information:\\n        - radius (mean of distances from center to points on the perimeter)\\n        - texture (standard deviation of gray-scale values)\\n        - perimeter\\n        - area\\n        - smoothness (local variation in radius lengths)\\n        - compactness (perimeter^2 / area - 1.0)\\n        - concavity (severity of concave portions of the contour)\\n        - concave points (number of concave portions of the contour)\\n        - symmetry \\n        - fractal dimension (\"coastline approximation\" - 1)\\n\\n        The mean, standard error, and \"worst\" or largest (mean of the three\\n        largest values) of these features were computed for each image,\\n        resulting in 30 features.  For instance, field 3 is Mean Radius, field\\n        13 is Radius SE, field 23 is Worst Radius.\\n\\n        - class:\\n                - WDBC-Malignant\\n                - WDBC-Benign\\n\\n    :Summary Statistics:\\n\\n    ===================================== ====== ======\\n                                           Min    Max\\n    ===================================== ====== ======\\n    radius (mean):                        6.981  28.11\\n    texture (mean):                       9.71   39.28\\n    perimeter (mean):                     43.79  188.5\\n    area (mean):                          143.5  2501.0\\n    smoothness (mean):                    0.053  0.163\\n    compactness (mean):                   0.019  0.345\\n    concavity (mean):                     0.0    0.427\\n    concave points (mean):                0.0    0.201\\n    symmetry (mean):                      0.106  0.304\\n    fractal dimension (mean):             0.05   0.097\\n    radius (standard error):              0.112  2.873\\n    texture (standard error):             0.36   4.885\\n    perimeter (standard error):           0.757  21.98\\n    area (standard error):                6.802  542.2\\n    smoothness (standard error):          0.002  0.031\\n    compactness (standard error):         0.002  0.135\\n    concavity (standard error):           0.0    0.396\\n    concave points (standard error):      0.0    0.053\\n    symmetry (standard error):            0.008  0.079\\n    fractal dimension (standard error):   0.001  0.03\\n    radius (worst):                       7.93   36.04\\n    texture (worst):                      12.02  49.54\\n    perimeter (worst):                    50.41  251.2\\n    area (worst):                         185.2  4254.0\\n    smoothness (worst):                   0.071  0.223\\n    compactness (worst):                  0.027  1.058\\n    concavity (worst):                    0.0    1.252\\n    concave points (worst):               0.0    0.291\\n    symmetry (worst):                     0.156  0.664\\n    fractal dimension (worst):            0.055  0.208\\n    ===================================== ====== ======\\n\\n    :Missing Attribute Values: None\\n\\n    :Class Distribution: 212 - Malignant, 357 - Benign\\n\\n    :Creator:  Dr. William H. Wolberg, W. Nick Street, Olvi L. Mangasarian\\n\\n    :Donor: Nick Street\\n\\n    :Date: November, 1995\\n\\nThis is a copy of UCI ML Breast Cancer Wisconsin (Diagnostic) datasets.\\nhttps://goo.gl/U2Uwz2\\n\\nFeatures are computed from a digitized image of a fine needle\\naspirate (FNA) of a breast mass.  They describe\\ncharacteristics of the cell nuclei present in the image.\\n\\nSeparating plane described above was obtained using\\nMultisurface Method-Tree (MSM-T) [K. P. Bennett, \"Decision Tree\\nConstruction Via Linear Programming.\" Proceedings of the 4th\\nMidwest Artificial Intelligence and Cognitive Science Society,\\npp. 97-101, 1992], a classification method which uses linear\\nprogramming to construct a decision tree.  Relevant features\\nwere selected using an exhaustive search in the space of 1-4\\nfeatures and 1-3 separating planes.\\n\\nThe actual linear program used to obtain the separating plane\\nin the 3-dimensional space is that described in:\\n[K. P. Bennett and O. L. Mangasarian: \"Robust Linear\\nProgramming Discrimination of Two Linearly Inseparable Sets\",\\nOptimization Methods and Software 1, 1992, 23-34].\\n\\nThis database is also available through the UW CS ftp server:\\n\\nftp ftp.cs.wisc.edu\\ncd math-prog/cpo-dataset/machine-learn/WDBC/\\n\\n.. topic:: References\\n\\n   - W.N. Street, W.H. Wolberg and O.L. Mangasarian. Nuclear feature extraction \\n     for breast tumor diagnosis. IS&T/SPIE 1993 International Symposium on \\n     Electronic Imaging: Science and Technology, volume 1905, pages 861-870,\\n     San Jose, CA, 1993.\\n   - O.L. Mangasarian, W.N. Street and W.H. Wolberg. Breast cancer diagnosis and \\n     prognosis via linear programming. Operations Research, 43(4), pages 570-577, \\n     July-August 1995.\\n   - W.H. Wolberg, W.N. Street, and O.L. Mangasarian. Machine learning techniques\\n     to diagnose breast cancer from fine-needle aspirates. Cancer Letters 77 (1994) \\n     163-171.',\n",
              " 'data': array([[1.799e+01, 1.038e+01, 1.228e+02, ..., 2.654e-01, 4.601e-01,\n",
              "         1.189e-01],\n",
              "        [2.057e+01, 1.777e+01, 1.329e+02, ..., 1.860e-01, 2.750e-01,\n",
              "         8.902e-02],\n",
              "        [1.969e+01, 2.125e+01, 1.300e+02, ..., 2.430e-01, 3.613e-01,\n",
              "         8.758e-02],\n",
              "        ...,\n",
              "        [1.660e+01, 2.808e+01, 1.083e+02, ..., 1.418e-01, 2.218e-01,\n",
              "         7.820e-02],\n",
              "        [2.060e+01, 2.933e+01, 1.401e+02, ..., 2.650e-01, 4.087e-01,\n",
              "         1.240e-01],\n",
              "        [7.760e+00, 2.454e+01, 4.792e+01, ..., 0.000e+00, 2.871e-01,\n",
              "         7.039e-02]]),\n",
              " 'feature_names': array(['mean radius', 'mean texture', 'mean perimeter', 'mean area',\n",
              "        'mean smoothness', 'mean compactness', 'mean concavity',\n",
              "        'mean concave points', 'mean symmetry', 'mean fractal dimension',\n",
              "        'radius error', 'texture error', 'perimeter error', 'area error',\n",
              "        'smoothness error', 'compactness error', 'concavity error',\n",
              "        'concave points error', 'symmetry error',\n",
              "        'fractal dimension error', 'worst radius', 'worst texture',\n",
              "        'worst perimeter', 'worst area', 'worst smoothness',\n",
              "        'worst compactness', 'worst concavity', 'worst concave points',\n",
              "        'worst symmetry', 'worst fractal dimension'], dtype='<U23'),\n",
              " 'filename': '/usr/local/lib/python3.6/dist-packages/sklearn/datasets/data/breast_cancer.csv',\n",
              " 'target': array([0, 0, 0, 0, 0, 0, 0, 0, 0, 0, 0, 0, 0, 0, 0, 0, 0, 0, 0, 1, 1, 1,\n",
              "        0, 0, 0, 0, 0, 0, 0, 0, 0, 0, 0, 0, 0, 0, 0, 1, 0, 0, 0, 0, 0, 0,\n",
              "        0, 0, 1, 0, 1, 1, 1, 1, 1, 0, 0, 1, 0, 0, 1, 1, 1, 1, 0, 1, 0, 0,\n",
              "        1, 1, 1, 1, 0, 1, 0, 0, 1, 0, 1, 0, 0, 1, 1, 1, 0, 0, 1, 0, 0, 0,\n",
              "        1, 1, 1, 0, 1, 1, 0, 0, 1, 1, 1, 0, 0, 1, 1, 1, 1, 0, 1, 1, 0, 1,\n",
              "        1, 1, 1, 1, 1, 1, 1, 0, 0, 0, 1, 0, 0, 1, 1, 1, 0, 0, 1, 0, 1, 0,\n",
              "        0, 1, 0, 0, 1, 1, 0, 1, 1, 0, 1, 1, 1, 1, 0, 1, 1, 1, 1, 1, 1, 1,\n",
              "        1, 1, 0, 1, 1, 1, 1, 0, 0, 1, 0, 1, 1, 0, 0, 1, 1, 0, 0, 1, 1, 1,\n",
              "        1, 0, 1, 1, 0, 0, 0, 1, 0, 1, 0, 1, 1, 1, 0, 1, 1, 0, 0, 1, 0, 0,\n",
              "        0, 0, 1, 0, 0, 0, 1, 0, 1, 0, 1, 1, 0, 1, 0, 0, 0, 0, 1, 1, 0, 0,\n",
              "        1, 1, 1, 0, 1, 1, 1, 1, 1, 0, 0, 1, 1, 0, 1, 1, 0, 0, 1, 0, 1, 1,\n",
              "        1, 1, 0, 1, 1, 1, 1, 1, 0, 1, 0, 0, 0, 0, 0, 0, 0, 0, 0, 0, 0, 0,\n",
              "        0, 0, 1, 1, 1, 1, 1, 1, 0, 1, 0, 1, 1, 0, 1, 1, 0, 1, 0, 0, 1, 1,\n",
              "        1, 1, 1, 1, 1, 1, 1, 1, 1, 1, 1, 0, 1, 1, 0, 1, 0, 1, 1, 1, 1, 1,\n",
              "        1, 1, 1, 1, 1, 1, 1, 1, 1, 0, 1, 1, 1, 0, 1, 0, 1, 1, 1, 1, 0, 0,\n",
              "        0, 1, 1, 1, 1, 0, 1, 0, 1, 0, 1, 1, 1, 0, 1, 1, 1, 1, 1, 1, 1, 0,\n",
              "        0, 0, 1, 1, 1, 1, 1, 1, 1, 1, 1, 1, 1, 0, 0, 1, 0, 0, 0, 1, 0, 0,\n",
              "        1, 1, 1, 1, 1, 0, 1, 1, 1, 1, 1, 0, 1, 1, 1, 0, 1, 1, 0, 0, 1, 1,\n",
              "        1, 1, 1, 1, 0, 1, 1, 1, 1, 1, 1, 1, 0, 1, 1, 1, 1, 1, 0, 1, 1, 0,\n",
              "        1, 1, 1, 1, 1, 1, 1, 1, 1, 1, 1, 1, 0, 1, 0, 0, 1, 0, 1, 1, 1, 1,\n",
              "        1, 0, 1, 1, 0, 1, 0, 1, 1, 0, 1, 0, 1, 1, 1, 1, 1, 1, 1, 1, 0, 0,\n",
              "        1, 1, 1, 1, 1, 1, 0, 1, 1, 1, 1, 1, 1, 1, 1, 1, 1, 0, 1, 1, 1, 1,\n",
              "        1, 1, 1, 0, 1, 0, 1, 1, 0, 1, 1, 1, 1, 1, 0, 0, 1, 0, 1, 0, 1, 1,\n",
              "        1, 1, 1, 0, 1, 1, 0, 1, 0, 1, 0, 0, 1, 1, 1, 0, 1, 1, 1, 1, 1, 1,\n",
              "        1, 1, 1, 1, 1, 0, 1, 0, 0, 1, 1, 1, 1, 1, 1, 1, 1, 1, 1, 1, 1, 1,\n",
              "        1, 1, 1, 1, 1, 1, 1, 1, 1, 1, 1, 1, 0, 0, 0, 0, 0, 0, 1]),\n",
              " 'target_names': array(['malignant', 'benign'], dtype='<U9')}"
            ]
          },
          "metadata": {
            "tags": []
          },
          "execution_count": 4
        }
      ]
    },
    {
      "cell_type": "code",
      "metadata": {
        "id": "5_dqbq52YZYM"
      },
      "source": [
        "X = cancer_data.data\r\n",
        "y = cancer_data.target"
      ],
      "execution_count": 5,
      "outputs": []
    },
    {
      "cell_type": "code",
      "metadata": {
        "id": "oPYtwG8rYb-U"
      },
      "source": [
        "X_train, X_test, y_train, y_test = train_test_split(X, y, test_size=0.2, random_state=0)"
      ],
      "execution_count": 6,
      "outputs": []
    },
    {
      "cell_type": "code",
      "metadata": {
        "id": "AzmOCtzsYfR9"
      },
      "source": [
        "# 개별 모델 생성\r\n",
        "knn_clf = KNeighborsClassifier(n_neighbors=4)\r\n",
        "rf_clf = RandomForestClassifier(n_estimators=100, random_state=0)\r\n",
        "dt_clf = DecisionTreeClassifier()\r\n",
        "ada_clf = AdaBoostClassifier(n_estimators=100)\r\n",
        "\r\n",
        "# 스태킹으로 만들어진 데이터 세트를 학습, 예측할 최종 모델\r\n",
        "lr_final = LogisticRegression(C=10)"
      ],
      "execution_count": 7,
      "outputs": []
    },
    {
      "cell_type": "code",
      "metadata": {
        "colab": {
          "base_uri": "https://localhost:8080/"
        },
        "id": "R3kxOqTvYdNb",
        "outputId": "91134433-1888-4335-abbe-c9951af60c6d"
      },
      "source": [
        "# 개별 모델들을 학습\r\n",
        "knn_clf.fit(X_train, y_train)\r\n",
        "rf_clf.fit(X_train, y_train)\r\n",
        "dt_clf.fit(X_train, y_train)\r\n",
        "ada_clf.fit(X_train, y_train)"
      ],
      "execution_count": 8,
      "outputs": [
        {
          "output_type": "execute_result",
          "data": {
            "text/plain": [
              "AdaBoostClassifier(algorithm='SAMME.R', base_estimator=None, learning_rate=1.0,\n",
              "                   n_estimators=100, random_state=None)"
            ]
          },
          "metadata": {
            "tags": []
          },
          "execution_count": 8
        }
      ]
    },
    {
      "cell_type": "code",
      "metadata": {
        "colab": {
          "base_uri": "https://localhost:8080/"
        },
        "id": "hIW69_Y0ZKO6",
        "outputId": "4f788702-a762-4ff7-8d4e-20f42c66a48e"
      },
      "source": [
        "# 학습된 개별 모델들이 각자 반환하는 예측 데이터 세트를 생성하고, 개별 모델의 정확도 측정\r\n",
        "knn_pred = knn_clf.predict(X_test)\r\n",
        "rf_pred = rf_clf.predict(X_test)\r\n",
        "dt_pred = dt_clf.predict(X_test)\r\n",
        "ada_pred = ada_clf.predict(X_test)\r\n",
        "\r\n",
        "print(f'ROC-AUC Score of KNeighborsClassifier: {roc_auc_score(y_test, knn_pred)}')\r\n",
        "print(f'ROC-AUC Score of RandomForestClassifier: {roc_auc_score(y_test, rf_pred)}')\r\n",
        "print(f'ROC-AUC Score of DecisionTreeClassifier: {roc_auc_score(y_test, dt_pred)}')\r\n",
        "print(f'ROC-AUC Score of AdaBoostClassifier: {roc_auc_score(y_test, ada_pred)}')"
      ],
      "execution_count": 9,
      "outputs": [
        {
          "output_type": "stream",
          "text": [
            "ROC-AUC Score of KNeighborsClassifier: 0.9233089869799938\n",
            "ROC-AUC Score of RandomForestClassifier: 0.9669736424261671\n",
            "ROC-AUC Score of DecisionTreeClassifier: 0.900920927278501\n",
            "ROC-AUC Score of AdaBoostClassifier: 0.9531597332486503\n"
          ],
          "name": "stdout"
        }
      ]
    },
    {
      "cell_type": "code",
      "metadata": {
        "colab": {
          "base_uri": "https://localhost:8080/"
        },
        "id": "chdBrDiCZXp3",
        "outputId": "bdfc72d6-2ede-4386-b580-5bf2084ad0c8"
      },
      "source": [
        "pred = np.array([knn_pred, rf_pred, dt_pred, ada_pred])\r\n",
        "pred.shape"
      ],
      "execution_count": 10,
      "outputs": [
        {
          "output_type": "execute_result",
          "data": {
            "text/plain": [
              "(4, 114)"
            ]
          },
          "metadata": {
            "tags": []
          },
          "execution_count": 10
        }
      ]
    },
    {
      "cell_type": "code",
      "metadata": {
        "colab": {
          "base_uri": "https://localhost:8080/"
        },
        "id": "a-WF6FAIaDie",
        "outputId": "93da8571-0b20-4145-cef9-13149e5c01a5"
      },
      "source": [
        "pred = pred.T\r\n",
        "pred.shape"
      ],
      "execution_count": 11,
      "outputs": [
        {
          "output_type": "execute_result",
          "data": {
            "text/plain": [
              "(114, 4)"
            ]
          },
          "metadata": {
            "tags": []
          },
          "execution_count": 11
        }
      ]
    },
    {
      "cell_type": "code",
      "metadata": {
        "colab": {
          "base_uri": "https://localhost:8080/"
        },
        "id": "3kwFj8y4aImx",
        "outputId": "42500788-fe2e-4bd9-bf0d-c5a51a2f3d18"
      },
      "source": [
        "lr_final.fit(pred, y_test)\r\n",
        "final = lr_final.predict(pred)\r\n",
        "\r\n",
        "print(f'ROC-AUC Score of final meta model: {roc_auc_score(y_test, final)}')"
      ],
      "execution_count": 12,
      "outputs": [
        {
          "output_type": "stream",
          "text": [
            "ROC-AUC Score of final meta model: 0.9669736424261671\n"
          ],
          "name": "stdout"
        }
      ]
    },
    {
      "cell_type": "markdown",
      "metadata": {
        "id": "_aJf97kR3xGj"
      },
      "source": [
        "# CV 세트 기반의 스태킹"
      ]
    },
    {
      "cell_type": "code",
      "metadata": {
        "id": "CESJx_NHaVDP"
      },
      "source": [
        "from sklearn.model_selection import KFold\r\n",
        "from sklearn.metrics import mean_absolute_error"
      ],
      "execution_count": 13,
      "outputs": []
    },
    {
      "cell_type": "code",
      "metadata": {
        "id": "Fz3B_pvL34_6"
      },
      "source": [
        " # 개별 기반 모델에서 최종 메타 모델이 사용할 학습 및 테스트용 데이터를 생성하기 위한 함수\r\n",
        " def get_stacking_base_datasets(model, X_train, y_train, X_test, n_folds):\r\n",
        "    # 지정된 n_folds값으로 KFold 생성\r\n",
        "    kf = KFold(n_splits=n_folds, shuffle=False)\r\n",
        "    # 추후에 메타 모델이 사용할 학습 데이터 반환을 위한 넘파이 배열 초기화\r\n",
        "    train_fold_pred = np.zeros((X_train.shape[0], 1))\r\n",
        "    test_pred = np.zeros((X_test.shape[0], n_folds))\r\n",
        "    print('Training:', model.__class__.__name__)\r\n",
        "\r\n",
        "    for folder_counter, (train_index, valid_index) in enumerate(kf.split(X_train)):\r\n",
        "        # 입력된 학습 데이터에서 기반 모델이 학습/예측할 폴드 데이터 세트 추출\r\n",
        "        print(f'Training Fold set', folder_counter)\r\n",
        "        X_tr = X_train[train_index]\r\n",
        "        y_tr = y_train[train_index]\r\n",
        "        X_te = X_train[valid_index]\r\n",
        "\r\n",
        "        # 폴드 세트 내부에서 다시 만들어진 학습 데이터로 기반 모델의 학습 수행\r\n",
        "        model.fit(X_tr, y_tr)\r\n",
        "        # 폴드 세트 내부에서 다시 만들어진 검증 데이터로 기반 모델 예측 후 데이터 저장\r\n",
        "        train_fold_pred[valid_index, :] = model.predict(X_te).reshape(-1, 1)\r\n",
        "        # 입력된 원본 테스트 데이터를 폴드 세트 내 학습된 기반 모델에서 예측 후 데이터 저장\r\n",
        "        test_pred[:, folder_counter] = model.predict(X_test)\r\n",
        "    \r\n",
        "    # 폴드 세트 내에서 원본 테스트 데이터를 예측한 데이터를 평균하여 테스트 데이터로 생성\r\n",
        "    test_pred_mean = np.mean(test_pred, axis=1).reshape(-1, 1)\r\n",
        "\r\n",
        "    # train_fold_pred는 최종 메타 모델이 사용하는 학습 데이터, test_pred_mean은 테스트 데이터\r\n",
        "    return train_fold_pred, test_pred_mean"
      ],
      "execution_count": 14,
      "outputs": []
    },
    {
      "cell_type": "code",
      "metadata": {
        "colab": {
          "base_uri": "https://localhost:8080/"
        },
        "id": "BdLSl8pA389o",
        "outputId": "9ea91e8a-b650-4974-f7f5-3868f86687b2"
      },
      "source": [
        "knn_train, knn_test = get_stacking_base_datasets(knn_clf, X_train, y_train, X_test, 7)\r\n",
        "rf_train, rf_test = get_stacking_base_datasets(rf_clf, X_train, y_train, X_test, 7)\r\n",
        "dt_train, dt_test = get_stacking_base_datasets(dt_clf, X_train, y_train, X_test, 7)\r\n",
        "ada_train, ada_test = get_stacking_base_datasets(ada_clf, X_train, y_train, X_test, 7)"
      ],
      "execution_count": 15,
      "outputs": [
        {
          "output_type": "stream",
          "text": [
            "Training: KNeighborsClassifier\n",
            "Training Fold set 0\n",
            "Training Fold set 1\n",
            "Training Fold set 2\n",
            "Training Fold set 3\n",
            "Training Fold set 4\n",
            "Training Fold set 5\n",
            "Training Fold set 6\n",
            "Training: RandomForestClassifier\n",
            "Training Fold set 0\n",
            "Training Fold set 1\n",
            "Training Fold set 2\n",
            "Training Fold set 3\n",
            "Training Fold set 4\n",
            "Training Fold set 5\n",
            "Training Fold set 6\n",
            "Training: DecisionTreeClassifier\n",
            "Training Fold set 0\n",
            "Training Fold set 1\n",
            "Training Fold set 2\n",
            "Training Fold set 3\n",
            "Training Fold set 4\n",
            "Training Fold set 5\n",
            "Training Fold set 6\n",
            "Training: AdaBoostClassifier\n",
            "Training Fold set 0\n",
            "Training Fold set 1\n",
            "Training Fold set 2\n",
            "Training Fold set 3\n",
            "Training Fold set 4\n",
            "Training Fold set 5\n",
            "Training Fold set 6\n"
          ],
          "name": "stdout"
        }
      ]
    },
    {
      "cell_type": "code",
      "metadata": {
        "colab": {
          "base_uri": "https://localhost:8080/"
        },
        "id": "xQ3xTRCp5uow",
        "outputId": "7c5977ba-bb8b-4e64-e03f-f26e59244ec3"
      },
      "source": [
        "stack_final_X_train = np.concatenate((knn_train, rf_train, dt_train, ada_train), axis=1)\r\n",
        "stack_final_X_test = np.concatenate((knn_test, rf_test, dt_test, ada_test), axis=1)\r\n",
        "\r\n",
        "print(f'원본 학습 피쳐 데이터 shape: {X_train.shape}, 원본 테스트 피쳐 데이터 shape: {X_test.shape}')\r\n",
        "print(f'스태킹 학습 피쳐 데이터 shape: {stack_final_X_train.shape}, 스태킹 테스트 피쳐 데이터 shape: {stack_final_X_test.shape}')"
      ],
      "execution_count": 16,
      "outputs": [
        {
          "output_type": "stream",
          "text": [
            "원본 학습 피쳐 데이터 shape: (455, 30), 원본 테스트 피쳐 데이터 shape: (114, 30)\n",
            "스태킹 학습 피쳐 데이터 shape: (455, 4), 스태킹 테스트 피쳐 데이터 shape: (114, 4)\n"
          ],
          "name": "stdout"
        }
      ]
    },
    {
      "cell_type": "code",
      "metadata": {
        "colab": {
          "base_uri": "https://localhost:8080/"
        },
        "id": "DYOKrGHb_Gha",
        "outputId": "bb3c638f-3655-4a63-dbb3-072589bdcb6c"
      },
      "source": [
        "lr_final = LogisticRegression()\r\n",
        "lr_final.fit(stack_final_X_train, y_train)\r\n",
        "stack_final = lr_final.predict(stack_final_X_test)\r\n",
        "\r\n",
        "print(f'ROC-AUC Score of final meta model: {roc_auc_score(y_test, stack_final)}')"
      ],
      "execution_count": 17,
      "outputs": [
        {
          "output_type": "stream",
          "text": [
            "ROC-AUC Score of final meta model: 0.9744363289933311\n"
          ],
          "name": "stdout"
        }
      ]
    },
    {
      "cell_type": "code",
      "metadata": {
        "id": "RzUWe904_e4e"
      },
      "source": [
        ""
      ],
      "execution_count": 17,
      "outputs": []
    }
  ]
}