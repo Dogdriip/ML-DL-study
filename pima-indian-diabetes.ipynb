{
 "cells": [
  {
   "cell_type": "markdown",
   "metadata": {
    "papermill": {
     "duration": 0.028312,
     "end_time": "2021-01-29T07:52:48.756478",
     "exception": false,
     "start_time": "2021-01-29T07:52:48.728166",
     "status": "completed"
    },
    "tags": []
   },
   "source": [
    "# Disclaimer\n",
    "\n",
    "이 커널은 위키북스 출판 '파이썬 머신러닝 완벽 가이드' 도서를 다량 참고하여 작성하였습니다.\n",
    "\n"
   ]
  },
  {
   "cell_type": "markdown",
   "metadata": {
    "papermill": {
     "duration": 0.026869,
     "end_time": "2021-01-29T07:52:48.810216",
     "exception": false,
     "start_time": "2021-01-29T07:52:48.783347",
     "status": "completed"
    },
    "tags": []
   },
   "source": [
    "# 이 커널에서 얻게 될 것\n",
    "\n",
    "- 이진 분류에서 사용되는 다양한 평가 지표 (Accuracy, Confusion Matrix, Precision, Recall, F1, AUC)\n",
    "- Precision-Recall Curve\n",
    "- 임곗값 낮추기 (predict_proba()와 Binarizer 사용)"
   ]
  },
  {
   "cell_type": "code",
   "execution_count": 1,
   "metadata": {
    "_cell_guid": "b1076dfc-b9ad-4769-8c92-a6c4dae69d19",
    "_uuid": "8f2839f25d086af736a60e9eeb907d3b93b6e0e5",
    "execution": {
     "iopub.execute_input": "2021-01-29T07:52:48.872165Z",
     "iopub.status.busy": "2021-01-29T07:52:48.871199Z",
     "iopub.status.idle": "2021-01-29T07:52:48.884311Z",
     "shell.execute_reply": "2021-01-29T07:52:48.884973Z"
    },
    "papermill": {
     "duration": 0.047447,
     "end_time": "2021-01-29T07:52:48.885356",
     "exception": false,
     "start_time": "2021-01-29T07:52:48.837909",
     "status": "completed"
    },
    "tags": []
   },
   "outputs": [
    {
     "name": "stdout",
     "output_type": "stream",
     "text": [
      "/kaggle/input/pima-indians-diabetes-database/diabetes.csv\n"
     ]
    }
   ],
   "source": [
    "# This Python 3 environment comes with many helpful analytics libraries installed\n",
    "# It is defined by the kaggle/python Docker image: https://github.com/kaggle/docker-python\n",
    "# For example, here's several helpful packages to load\n",
    "\n",
    "import numpy as np # linear algebra\n",
    "import pandas as pd # data processing, CSV file I/O (e.g. pd.read_csv)\n",
    "\n",
    "# Input data files are available in the read-only \"../input/\" directory\n",
    "# For example, running this (by clicking run or pressing Shift+Enter) will list all files under the input directory\n",
    "\n",
    "import os\n",
    "for dirname, _, filenames in os.walk('/kaggle/input'):\n",
    "    for filename in filenames:\n",
    "        print(os.path.join(dirname, filename))\n",
    "\n",
    "# You can write up to 20GB to the current directory (/kaggle/working/) that gets preserved as output when you create a version using \"Save & Run All\" \n",
    "# You can also write temporary files to /kaggle/temp/, but they won't be saved outside of the current session"
   ]
  },
  {
   "cell_type": "code",
   "execution_count": 2,
   "metadata": {
    "execution": {
     "iopub.execute_input": "2021-01-29T07:52:48.949469Z",
     "iopub.status.busy": "2021-01-29T07:52:48.948646Z",
     "iopub.status.idle": "2021-01-29T07:52:49.979818Z",
     "shell.execute_reply": "2021-01-29T07:52:49.979106Z"
    },
    "papermill": {
     "duration": 1.065358,
     "end_time": "2021-01-29T07:52:49.979961",
     "exception": false,
     "start_time": "2021-01-29T07:52:48.914603",
     "status": "completed"
    },
    "tags": []
   },
   "outputs": [],
   "source": [
    "import matplotlib.pyplot as plt\n",
    "import seaborn as sns\n",
    "%matplotlib inline"
   ]
  },
  {
   "cell_type": "code",
   "execution_count": 3,
   "metadata": {
    "execution": {
     "iopub.execute_input": "2021-01-29T07:52:50.021128Z",
     "iopub.status.busy": "2021-01-29T07:52:50.020495Z",
     "iopub.status.idle": "2021-01-29T07:52:50.026701Z",
     "shell.execute_reply": "2021-01-29T07:52:50.027262Z"
    },
    "papermill": {
     "duration": 0.029077,
     "end_time": "2021-01-29T07:52:50.027438",
     "exception": false,
     "start_time": "2021-01-29T07:52:49.998361",
     "status": "completed"
    },
    "tags": []
   },
   "outputs": [],
   "source": [
    "def get_clf_eval(y_test, pred, pred_proba):\n",
    "    print(f'Accuracy: {accuracy_score(y_test, pred)}')\n",
    "    print(f'Confusion Matrix:\\n{confusion_matrix(y_test, pred)}')\n",
    "    print(f'Precision: {precision_score(y_test, pred)}, Recall: {recall_score(y_test, pred)}')\n",
    "    print(f'F1: {f1_score(y_test, pred)}, AUC: {roc_auc_score(y_test, pred_proba)}')"
   ]
  },
  {
   "cell_type": "code",
   "execution_count": 4,
   "metadata": {
    "execution": {
     "iopub.execute_input": "2021-01-29T07:52:50.068948Z",
     "iopub.status.busy": "2021-01-29T07:52:50.068282Z",
     "iopub.status.idle": "2021-01-29T07:52:50.078252Z",
     "shell.execute_reply": "2021-01-29T07:52:50.078928Z"
    },
    "papermill": {
     "duration": 0.033011,
     "end_time": "2021-01-29T07:52:50.079164",
     "exception": false,
     "start_time": "2021-01-29T07:52:50.046153",
     "status": "completed"
    },
    "tags": []
   },
   "outputs": [],
   "source": [
    "def precision_recall_curve_plot(y_test, pred_proba):\n",
    "    # threshold ndarray와 이 threshold에 따른 정밀도, 재현율 ndarray 추출\n",
    "    precisions, recalls, thresholds = precision_recall_curve(y_test, pred_proba)\n",
    "    \n",
    "    # x축을 threshold값으로, y축은 정밀도, 재현율 값으로 각각 Plot 수행. 정밀도는 점선으로 표시.\n",
    "    plt.figure(figsize=(8, 6))\n",
    "    threshold_boundary = thresholds.shape[0]\n",
    "    plt.plot(thresholds, precisions[0:threshold_boundary], linestyle='--', label='precision')\n",
    "    plt.plot(thresholds, recalls[0:threshold_boundary], label='recall')\n",
    "    \n",
    "    # threshold 값 x축의 scale을 0.1단위로 변경\n",
    "    start, end = plt.xlim()\n",
    "    plt.xticks(np.round(np.arange(start, end, 0.1), 2))\n",
    "    \n",
    "    # x축, y축 label과 legend, grid 설정\n",
    "    plt.xlabel('Threshold value')\n",
    "    plt.ylabel('Precision and Recall value')\n",
    "    plt.legend()\n",
    "    plt.grid()\n",
    "    plt.show()"
   ]
  },
  {
   "cell_type": "markdown",
   "metadata": {
    "papermill": {
     "duration": 0.028247,
     "end_time": "2021-01-29T07:52:50.135611",
     "exception": false,
     "start_time": "2021-01-29T07:52:50.107364",
     "status": "completed"
    },
    "tags": []
   },
   "source": [
    "이번에는 피마 인디언 당뇨병 (Pima Indian Diabetes) 데이터 세트를 이용해 당뇨병 여부를 판단하는 머신러닝 예측 모델을 수립하고, 지금까지 설명한 평가 지표를 적용해 보겠습니다. 피마 인디언 당뇨병 데이터 세트는 북아메리카 피마 지역 원주민의 Type-2 당뇨병 결과 데이터입니다. 보통 당뇨 원인으로 식습관과 유전을 꼽습니다. 피마 지역은 고립된 지역에서 인디언 고유의 혈통이 지속돼 왔지만, 20세기 후반에 들어서면서 서구화된 식습관으로 많은 당뇨 환자가 생겨났습니다. 고립된 유전적 특성 때문에 당뇨학회에서는 피마 인디언의 당뇨병 자료에 대해 많은 연구를 했습니다."
   ]
  },
  {
   "cell_type": "code",
   "execution_count": 5,
   "metadata": {
    "execution": {
     "iopub.execute_input": "2021-01-29T07:52:50.198806Z",
     "iopub.status.busy": "2021-01-29T07:52:50.197738Z",
     "iopub.status.idle": "2021-01-29T07:52:50.709421Z",
     "shell.execute_reply": "2021-01-29T07:52:50.708653Z"
    },
    "papermill": {
     "duration": 0.543999,
     "end_time": "2021-01-29T07:52:50.709646",
     "exception": false,
     "start_time": "2021-01-29T07:52:50.165647",
     "status": "completed"
    },
    "tags": []
   },
   "outputs": [],
   "source": [
    "from sklearn.model_selection import train_test_split\n",
    "from sklearn.metrics import accuracy_score, precision_score, recall_score, roc_auc_score\n",
    "from sklearn.metrics import f1_score, confusion_matrix, precision_recall_curve, roc_curve\n",
    "from sklearn.preprocessing import StandardScaler, Binarizer\n",
    "from sklearn.linear_model import LogisticRegression"
   ]
  },
  {
   "cell_type": "code",
   "execution_count": 6,
   "metadata": {
    "execution": {
     "iopub.execute_input": "2021-01-29T07:52:50.773205Z",
     "iopub.status.busy": "2021-01-29T07:52:50.772324Z",
     "iopub.status.idle": "2021-01-29T07:52:50.821921Z",
     "shell.execute_reply": "2021-01-29T07:52:50.820897Z"
    },
    "papermill": {
     "duration": 0.083783,
     "end_time": "2021-01-29T07:52:50.822118",
     "exception": false,
     "start_time": "2021-01-29T07:52:50.738335",
     "status": "completed"
    },
    "tags": []
   },
   "outputs": [
    {
     "name": "stdout",
     "output_type": "stream",
     "text": [
      "<class 'pandas.core.frame.DataFrame'>\n",
      "RangeIndex: 768 entries, 0 to 767\n",
      "Data columns (total 9 columns):\n",
      " #   Column                    Non-Null Count  Dtype  \n",
      "---  ------                    --------------  -----  \n",
      " 0   Pregnancies               768 non-null    int64  \n",
      " 1   Glucose                   768 non-null    int64  \n",
      " 2   BloodPressure             768 non-null    int64  \n",
      " 3   SkinThickness             768 non-null    int64  \n",
      " 4   Insulin                   768 non-null    int64  \n",
      " 5   BMI                       768 non-null    float64\n",
      " 6   DiabetesPedigreeFunction  768 non-null    float64\n",
      " 7   Age                       768 non-null    int64  \n",
      " 8   Outcome                   768 non-null    int64  \n",
      "dtypes: float64(2), int64(7)\n",
      "memory usage: 54.1 KB\n"
     ]
    }
   ],
   "source": [
    "diabetes_data = pd.read_csv('/kaggle/input/pima-indians-diabetes-database/diabetes.csv')\n",
    "diabetes_data.info()"
   ]
  },
  {
   "cell_type": "markdown",
   "metadata": {
    "papermill": {
     "duration": 0.018656,
     "end_time": "2021-01-29T07:52:50.860889",
     "exception": false,
     "start_time": "2021-01-29T07:52:50.842233",
     "status": "completed"
    },
    "tags": []
   },
   "source": [
    "피마 인디언 당뇨병 데이터 세트는 다음 피쳐로 구성돼 있습니다.\n",
    "\n",
    "- Pregnancies: 임신 횟수\n",
    "- Glucose: 포도당 부하 검사 수치\n",
    "- BloodPressure: 혈압(mm Hg)\n",
    "- SkinThickness: 팔 삼두근 뒤쪽의 피하지방 측정값(mm)\n",
    "- Insulin: 혈청 인슐린(mu U/ml)\n",
    "- BMI: 체질량지수 (체중(kg) / 키(m)^2)\n",
    "- DiabetesPedigreeFunction: 당뇨 내력 가중치 값\n",
    "- Age: 나이\n",
    "- Outcome: 클래스 결정 값 (0 또는 1)"
   ]
  },
  {
   "cell_type": "markdown",
   "metadata": {
    "papermill": {
     "duration": 0.01991,
     "end_time": "2021-01-29T07:52:50.899707",
     "exception": false,
     "start_time": "2021-01-29T07:52:50.879797",
     "status": "completed"
    },
    "tags": []
   },
   "source": [
    "Null 값은 없으며, 피쳐의 타입은 모두 숫자형입니다. 임신 횟수, 나이와 같은 숫자형 피쳐와 당뇨 검사 수치 피쳐로 구성된 특징으로 볼 때 별도의 피쳐 인코딩은 필요하지 않아 보입니다."
   ]
  },
  {
   "cell_type": "code",
   "execution_count": 7,
   "metadata": {
    "execution": {
     "iopub.execute_input": "2021-01-29T07:52:50.949976Z",
     "iopub.status.busy": "2021-01-29T07:52:50.949093Z",
     "iopub.status.idle": "2021-01-29T07:52:50.956222Z",
     "shell.execute_reply": "2021-01-29T07:52:50.955659Z"
    },
    "papermill": {
     "duration": 0.036606,
     "end_time": "2021-01-29T07:52:50.956388",
     "exception": false,
     "start_time": "2021-01-29T07:52:50.919782",
     "status": "completed"
    },
    "tags": []
   },
   "outputs": [
    {
     "data": {
      "text/plain": [
       "0    500\n",
       "1    268\n",
       "Name: Outcome, dtype: int64"
      ]
     },
     "execution_count": 7,
     "metadata": {},
     "output_type": "execute_result"
    }
   ],
   "source": [
    "diabetes_data['Outcome'].value_counts()"
   ]
  },
  {
   "cell_type": "markdown",
   "metadata": {
    "papermill": {
     "duration": 0.019836,
     "end_time": "2021-01-29T07:52:50.996451",
     "exception": false,
     "start_time": "2021-01-29T07:52:50.976615",
     "status": "completed"
    },
    "tags": []
   },
   "source": [
    "전체 768개의 데이터 중에서 Negative 값 0 이 500개, Positive 값 1이 268개로 Negative가 상대적으로 많습니다. "
   ]
  },
  {
   "cell_type": "markdown",
   "metadata": {
    "papermill": {
     "duration": 0.02025,
     "end_time": "2021-01-29T07:52:51.036682",
     "exception": false,
     "start_time": "2021-01-29T07:52:51.016432",
     "status": "completed"
    },
    "tags": []
   },
   "source": [
    "이제 로지스틱 회귀를 이용해 예측 모델을 생성해 보겠습니다. 데이터 세트를 피쳐 데이터 세트와 클래스 데이터 세트로 나누고, 학습 데이터 세트와 테스트 데이터 세트로 분리하겠습니다. 로지스틱 회귀를 이용해 예측을 수행하고 성능 평가 지표를 출력하고 재현율 곡선을 시각화해 보겠습니다."
   ]
  },
  {
   "cell_type": "code",
   "execution_count": 8,
   "metadata": {
    "execution": {
     "iopub.execute_input": "2021-01-29T07:52:51.084342Z",
     "iopub.status.busy": "2021-01-29T07:52:51.083720Z",
     "iopub.status.idle": "2021-01-29T07:52:51.152903Z",
     "shell.execute_reply": "2021-01-29T07:52:51.152217Z"
    },
    "papermill": {
     "duration": 0.096703,
     "end_time": "2021-01-29T07:52:51.153049",
     "exception": false,
     "start_time": "2021-01-29T07:52:51.056346",
     "status": "completed"
    },
    "tags": []
   },
   "outputs": [
    {
     "name": "stderr",
     "output_type": "stream",
     "text": [
      "/opt/conda/lib/python3.7/site-packages/sklearn/linear_model/_logistic.py:764: ConvergenceWarning: lbfgs failed to converge (status=1):\n",
      "STOP: TOTAL NO. of ITERATIONS REACHED LIMIT.\n",
      "\n",
      "Increase the number of iterations (max_iter) or scale the data as shown in:\n",
      "    https://scikit-learn.org/stable/modules/preprocessing.html\n",
      "Please also refer to the documentation for alternative solver options:\n",
      "    https://scikit-learn.org/stable/modules/linear_model.html#logistic-regression\n",
      "  extra_warning_msg=_LOGISTIC_SOLVER_CONVERGENCE_MSG)\n"
     ]
    }
   ],
   "source": [
    "X = diabetes_data.iloc[:, :-1]\n",
    "y = diabetes_data.iloc[:, -1]\n",
    "\n",
    "X_train, X_test, y_train, y_test = train_test_split(X, y, test_size=0.2, random_state=156, stratify=y)\n",
    "\n",
    "# StandardScaler 클래스를 이용해 피쳐 데이터 세트에 일괄적으로 스케일링 적용\n",
    "scaler = StandardScaler()\n",
    "X = scaler.fit_transform(X)\n",
    "\n",
    "# 로지스틱 회귀로 학습, 예측 및 평가 수행\n",
    "lr_clf = LogisticRegression()\n",
    "lr_clf.fit(X_train, y_train)\n",
    "pred = lr_clf.predict(X_test)\n",
    "pred_proba = lr_clf.predict_proba(X_test)[:, 1]"
   ]
  },
  {
   "cell_type": "code",
   "execution_count": 9,
   "metadata": {
    "execution": {
     "iopub.execute_input": "2021-01-29T07:52:51.205000Z",
     "iopub.status.busy": "2021-01-29T07:52:51.199176Z",
     "iopub.status.idle": "2021-01-29T07:52:51.216549Z",
     "shell.execute_reply": "2021-01-29T07:52:51.215817Z"
    },
    "papermill": {
     "duration": 0.043274,
     "end_time": "2021-01-29T07:52:51.216755",
     "exception": false,
     "start_time": "2021-01-29T07:52:51.173481",
     "status": "completed"
    },
    "tags": []
   },
   "outputs": [
    {
     "name": "stdout",
     "output_type": "stream",
     "text": [
      "Accuracy: 0.7727272727272727\n",
      "Confusion Matrix:\n",
      "[[88 12]\n",
      " [23 31]]\n",
      "Precision: 0.7209302325581395, Recall: 0.5740740740740741\n",
      "F1: 0.6391752577319588, AUC: 0.7918518518518518\n"
     ]
    }
   ],
   "source": [
    "get_clf_eval(y_test, pred, pred_proba)"
   ]
  },
  {
   "cell_type": "markdown",
   "metadata": {
    "papermill": {
     "duration": 0.031696,
     "end_time": "2021-01-29T07:52:51.280196",
     "exception": false,
     "start_time": "2021-01-29T07:52:51.248500",
     "status": "completed"
    },
    "tags": []
   },
   "source": [
    "예측 정확도가 77.27%, 재현율은 59.26%로 측정됐습니다. 전체 데이터의 65%가 Negative이므로 정확도보다는 재현율 성능에 조금 더 초점을 맞춰 보겠습니다. 먼저 정밀도 재현율 곡선을 보고 임곗값별 정밀도와 재현율 값의 변화를 확인하겠습니다."
   ]
  },
  {
   "cell_type": "code",
   "execution_count": 10,
   "metadata": {
    "execution": {
     "iopub.execute_input": "2021-01-29T07:52:51.369479Z",
     "iopub.status.busy": "2021-01-29T07:52:51.368651Z",
     "iopub.status.idle": "2021-01-29T07:52:51.603236Z",
     "shell.execute_reply": "2021-01-29T07:52:51.602532Z"
    },
    "papermill": {
     "duration": 0.291505,
     "end_time": "2021-01-29T07:52:51.603374",
     "exception": false,
     "start_time": "2021-01-29T07:52:51.311869",
     "status": "completed"
    },
    "tags": []
   },
   "outputs": [
    {
     "data": {
      "image/png": "[encoded data removed]",
      "text/plain": [
       "<Figure size 576x432 with 1 Axes>"
      ]
     },
     "metadata": {
      "needs_background": "light"
     },
     "output_type": "display_data"
    }
   ],
   "source": [
    "precision_recall_curve_plot(y_test, pred_proba)"
   ]
  },
  {
   "cell_type": "markdown",
   "metadata": {
    "papermill": {
     "duration": 0.02188,
     "end_time": "2021-01-29T07:52:51.647305",
     "exception": false,
     "start_time": "2021-01-29T07:52:51.625425",
     "status": "completed"
    },
    "tags": []
   },
   "source": [
    "재현율 곡선을 보면 임곗값을 0.42 정도로 낮추면 정밀도와 재현율이 어느 정도 균형을 맞출 것 같습니다. 하지만 두 개의 지표 모두 0.7이 안 되는 수치로 보입니다. 여전히 두 지표의 값이 낮습니다. 임곗값을 인위적으로 조작하기 전에 데이터 값을 다시 점검하겠습니다. 먼저 원본 데이터 DataFrame의 describe() 메서드를 호출해 피쳐 값의 분포도를 살펴보겠습니다."
   ]
  },
  {
   "cell_type": "code",
   "execution_count": 11,
   "metadata": {
    "execution": {
     "iopub.execute_input": "2021-01-29T07:52:51.700862Z",
     "iopub.status.busy": "2021-01-29T07:52:51.699957Z",
     "iopub.status.idle": "2021-01-29T07:52:51.744659Z",
     "shell.execute_reply": "2021-01-29T07:52:51.743805Z"
    },
    "papermill": {
     "duration": 0.074958,
     "end_time": "2021-01-29T07:52:51.744955",
     "exception": false,
     "start_time": "2021-01-29T07:52:51.669997",
     "status": "completed"
    },
    "tags": []
   },
   "outputs": [
    {
     "data": {
      "text/html": [
       "<div>\n",
       "<style scoped>\n",
       "    .dataframe tbody tr th:only-of-type {\n",
       "        vertical-align: middle;\n",
       "    }\n",
       "\n",
       "    .dataframe tbody tr th {\n",
       "        vertical-align: top;\n",
       "    }\n",
       "\n",
       "    .dataframe thead th {\n",
       "        text-align: right;\n",
       "    }\n",
       "</style>\n",
       "<table border=\"1\" class=\"dataframe\">\n",
       "  <thead>\n",
       "    <tr style=\"text-align: right;\">\n",
       "      <th></th>\n",
       "      <th>Pregnancies</th>\n",
       "      <th>Glucose</th>\n",
       "      <th>BloodPressure</th>\n",
       "      <th>SkinThickness</th>\n",
       "      <th>Insulin</th>\n",
       "      <th>BMI</th>\n",
       "      <th>DiabetesPedigreeFunction</th>\n",
       "      <th>Age</th>\n",
       "      <th>Outcome</th>\n",
       "    </tr>\n",
       "  </thead>\n",
       "  <tbody>\n",
       "    <tr>\n",
       "      <th>count</th>\n",
       "      <td>768.000000</td>\n",
       "      <td>768.000000</td>\n",
       "      <td>768.000000</td>\n",
       "      <td>768.000000</td>\n",
       "      <td>768.000000</td>\n",
       "      <td>768.000000</td>\n",
       "      <td>768.000000</td>\n",
       "      <td>768.000000</td>\n",
       "      <td>768.000000</td>\n",
       "    </tr>\n",
       "    <tr>\n",
       "      <th>mean</th>\n",
       "      <td>3.845052</td>\n",
       "      <td>120.894531</td>\n",
       "      <td>69.105469</td>\n",
       "      <td>20.536458</td>\n",
       "      <td>79.799479</td>\n",
       "      <td>31.992578</td>\n",
       "      <td>0.471876</td>\n",
       "      <td>33.240885</td>\n",
       "      <td>0.348958</td>\n",
       "    </tr>\n",
       "    <tr>\n",
       "      <th>std</th>\n",
       "      <td>3.369578</td>\n",
       "      <td>31.972618</td>\n",
       "      <td>19.355807</td>\n",
       "      <td>15.952218</td>\n",
       "      <td>115.244002</td>\n",
       "      <td>7.884160</td>\n",
       "      <td>0.331329</td>\n",
       "      <td>11.760232</td>\n",
       "      <td>0.476951</td>\n",
       "    </tr>\n",
       "    <tr>\n",
       "      <th>min</th>\n",
       "      <td>0.000000</td>\n",
       "      <td>0.000000</td>\n",
       "      <td>0.000000</td>\n",
       "      <td>0.000000</td>\n",
       "      <td>0.000000</td>\n",
       "      <td>0.000000</td>\n",
       "      <td>0.078000</td>\n",
       "      <td>21.000000</td>\n",
       "      <td>0.000000</td>\n",
       "    </tr>\n",
       "    <tr>\n",
       "      <th>25%</th>\n",
       "      <td>1.000000</td>\n",
       "      <td>99.000000</td>\n",
       "      <td>62.000000</td>\n",
       "      <td>0.000000</td>\n",
       "      <td>0.000000</td>\n",
       "      <td>27.300000</td>\n",
       "      <td>0.243750</td>\n",
       "      <td>24.000000</td>\n",
       "      <td>0.000000</td>\n",
       "    </tr>\n",
       "    <tr>\n",
       "      <th>50%</th>\n",
       "      <td>3.000000</td>\n",
       "      <td>117.000000</td>\n",
       "      <td>72.000000</td>\n",
       "      <td>23.000000</td>\n",
       "      <td>30.500000</td>\n",
       "      <td>32.000000</td>\n",
       "      <td>0.372500</td>\n",
       "      <td>29.000000</td>\n",
       "      <td>0.000000</td>\n",
       "    </tr>\n",
       "    <tr>\n",
       "      <th>75%</th>\n",
       "      <td>6.000000</td>\n",
       "      <td>140.250000</td>\n",
       "      <td>80.000000</td>\n",
       "      <td>32.000000</td>\n",
       "      <td>127.250000</td>\n",
       "      <td>36.600000</td>\n",
       "      <td>0.626250</td>\n",
       "      <td>41.000000</td>\n",
       "      <td>1.000000</td>\n",
       "    </tr>\n",
       "    <tr>\n",
       "      <th>max</th>\n",
       "      <td>17.000000</td>\n",
       "      <td>199.000000</td>\n",
       "      <td>122.000000</td>\n",
       "      <td>99.000000</td>\n",
       "      <td>846.000000</td>\n",
       "      <td>67.100000</td>\n",
       "      <td>2.420000</td>\n",
       "      <td>81.000000</td>\n",
       "      <td>1.000000</td>\n",
       "    </tr>\n",
       "  </tbody>\n",
       "</table>\n",
       "</div>"
      ],
      "text/plain": [
       "       Pregnancies     Glucose  BloodPressure  SkinThickness     Insulin  \\\n",
       "count   768.000000  768.000000     768.000000     768.000000  768.000000   \n",
       "mean      3.845052  120.894531      69.105469      20.536458   79.799479   \n",
       "std       3.369578   31.972618      19.355807      15.952218  115.244002   \n",
       "min       0.000000    0.000000       0.000000       0.000000    0.000000   \n",
       "25%       1.000000   99.000000      62.000000       0.000000    0.000000   \n",
       "50%       3.000000  117.000000      72.000000      23.000000   30.500000   \n",
       "75%       6.000000  140.250000      80.000000      32.000000  127.250000   \n",
       "max      17.000000  199.000000     122.000000      99.000000  846.000000   \n",
       "\n",
       "              BMI  DiabetesPedigreeFunction         Age     Outcome  \n",
       "count  768.000000                768.000000  768.000000  768.000000  \n",
       "mean    31.992578                  0.471876   33.240885    0.348958  \n",
       "std      7.884160                  0.331329   11.760232    0.476951  \n",
       "min      0.000000                  0.078000   21.000000    0.000000  \n",
       "25%     27.300000                  0.243750   24.000000    0.000000  \n",
       "50%     32.000000                  0.372500   29.000000    0.000000  \n",
       "75%     36.600000                  0.626250   41.000000    1.000000  \n",
       "max     67.100000                  2.420000   81.000000    1.000000  "
      ]
     },
     "execution_count": 11,
     "metadata": {},
     "output_type": "execute_result"
    }
   ],
   "source": [
    "diabetes_data.describe()"
   ]
  },
  {
   "cell_type": "markdown",
   "metadata": {
    "papermill": {
     "duration": 0.035664,
     "end_time": "2021-01-29T07:52:51.817372",
     "exception": false,
     "start_time": "2021-01-29T07:52:51.781708",
     "status": "completed"
    },
    "tags": []
   },
   "source": [
    "min() 값이 0으로 돼 있는 피쳐가 상당히 많습니다. 예를 들어 Glucose 피쳐는 포도당 수치인데 min 값이 0인 것은 말이 되지 않습니다. Glucose 피쳐의 히스토그램을 확인해 보면 0 값이 일정 수준 존재하는 것을 알 수 있습니다."
   ]
  },
  {
   "cell_type": "code",
   "execution_count": 12,
   "metadata": {
    "execution": {
     "iopub.execute_input": "2021-01-29T07:52:51.894363Z",
     "iopub.status.busy": "2021-01-29T07:52:51.893490Z",
     "iopub.status.idle": "2021-01-29T07:52:52.139937Z",
     "shell.execute_reply": "2021-01-29T07:52:52.139312Z"
    },
    "papermill": {
     "duration": 0.287459,
     "end_time": "2021-01-29T07:52:52.140070",
     "exception": false,
     "start_time": "2021-01-29T07:52:51.852611",
     "status": "completed"
    },
    "tags": []
   },
   "outputs": [
    {
     "name": "stderr",
     "output_type": "stream",
     "text": [
      "/opt/conda/lib/python3.7/site-packages/seaborn/distributions.py:2557: FutureWarning: `distplot` is a deprecated function and will be removed in a future version. Please adapt your code to use either `displot` (a figure-level function with similar flexibility) or `histplot` (an axes-level function for histograms).\n",
      "  warnings.warn(msg, FutureWarning)\n"
     ]
    },
    {
     "data": {
      "text/plain": [
       "<AxesSubplot:xlabel='Glucose', ylabel='Density'>"
      ]
     },
     "execution_count": 12,
     "metadata": {},
     "output_type": "execute_result"
    },
    {
     "data": {
      "image/png": "[encoded data removed]",
      "text/plain": [
       "<Figure size 432x288 with 1 Axes>"
      ]
     },
     "metadata": {
      "needs_background": "light"
     },
     "output_type": "display_data"
    }
   ],
   "source": [
    "sns.distplot(diabetes_data['Glucose'])"
   ]
  },
  {
   "cell_type": "markdown",
   "metadata": {
    "papermill": {
     "duration": 0.024146,
     "end_time": "2021-01-29T07:52:52.189081",
     "exception": false,
     "start_time": "2021-01-29T07:52:52.164935",
     "status": "completed"
    },
    "tags": []
   },
   "source": [
    "min() 값이 0으로 돼 있는 피쳐에 대해 0값의 건수 및 전체 데이터 건수 대비 몇 퍼센트의 비율로 존재하는지 확인해 보겠습니다. 확인할 피쳐는 'Glucose', 'BloodPressure', 'SkinThickness', 'Insulin', 'BMI'입니다 (Pregnancies는 출산 횟수를 의미하므로 제외합니다)."
   ]
  },
  {
   "cell_type": "code",
   "execution_count": 13,
   "metadata": {
    "execution": {
     "iopub.execute_input": "2021-01-29T07:52:52.242434Z",
     "iopub.status.busy": "2021-01-29T07:52:52.241761Z",
     "iopub.status.idle": "2021-01-29T07:52:52.258160Z",
     "shell.execute_reply": "2021-01-29T07:52:52.258888Z"
    },
    "papermill": {
     "duration": 0.044947,
     "end_time": "2021-01-29T07:52:52.259115",
     "exception": false,
     "start_time": "2021-01-29T07:52:52.214168",
     "status": "completed"
    },
    "tags": []
   },
   "outputs": [
    {
     "name": "stdout",
     "output_type": "stream",
     "text": [
      "Feature: Glucose, Zero count: 5, Percentage: 0.6510416666666666\n",
      "Feature: BloodPressure, Zero count: 35, Percentage: 4.557291666666667\n",
      "Feature: SkinThickness, Zero count: 227, Percentage: 29.557291666666668\n",
      "Feature: Insulin, Zero count: 374, Percentage: 48.697916666666664\n",
      "Feature: BMI, Zero count: 11, Percentage: 1.4322916666666667\n"
     ]
    }
   ],
   "source": [
    "# 0값을 검사할 피쳐 명 리스트\n",
    "zero_features = ['Glucose', 'BloodPressure', 'SkinThickness', 'Insulin', 'BMI']\n",
    "\n",
    "# 전체 데이터 건수\n",
    "total_count = diabetes_data['Glucose'].count()\n",
    "\n",
    "for feature in zero_features:\n",
    "    zero_count = diabetes_data[diabetes_data[feature] == 0][feature].count()\n",
    "    print(f'Feature: {feature}, Zero count: {zero_count}, Percentage: {100 * zero_count / total_count}')"
   ]
  },
  {
   "cell_type": "markdown",
   "metadata": {
    "papermill": {
     "duration": 0.03696,
     "end_time": "2021-01-29T07:52:52.334319",
     "exception": false,
     "start_time": "2021-01-29T07:52:52.297359",
     "status": "completed"
    },
    "tags": []
   },
   "source": [
    "SkinThickness와 Insulin의 0 값은 각각 전체의 29%, 48%로 대단히 많습니다. 전체 데이터 건수가 많지 않기 때문에 이들 데이터를 일괄적으로 삭제할 경우에는 학습을 효과적으로 수행하기 어려울 것 같습니다. 위 피쳐의 0 값을 평균값으로 대체하겠습니다."
   ]
  },
  {
   "cell_type": "code",
   "execution_count": 14,
   "metadata": {
    "execution": {
     "iopub.execute_input": "2021-01-29T07:52:52.432480Z",
     "iopub.status.busy": "2021-01-29T07:52:52.423212Z",
     "iopub.status.idle": "2021-01-29T07:52:52.436103Z",
     "shell.execute_reply": "2021-01-29T07:52:52.435277Z"
    },
    "papermill": {
     "duration": 0.064321,
     "end_time": "2021-01-29T07:52:52.436271",
     "exception": false,
     "start_time": "2021-01-29T07:52:52.371950",
     "status": "completed"
    },
    "tags": []
   },
   "outputs": [],
   "source": [
    "diabetes_data[zero_features] = diabetes_data[zero_features].replace(0, diabetes_data[zero_features].mean())"
   ]
  },
  {
   "cell_type": "markdown",
   "metadata": {
    "papermill": {
     "duration": 0.037264,
     "end_time": "2021-01-29T07:52:52.511103",
     "exception": false,
     "start_time": "2021-01-29T07:52:52.473839",
     "status": "completed"
    },
    "tags": []
   },
   "source": [
    "다시 학습/데이터 세트로 나누고 로지스틱 회귀를 적용해 성능 평가 지표를 확인하겠습니다."
   ]
  },
  {
   "cell_type": "code",
   "execution_count": 15,
   "metadata": {
    "execution": {
     "iopub.execute_input": "2021-01-29T07:52:52.603033Z",
     "iopub.status.busy": "2021-01-29T07:52:52.595070Z",
     "iopub.status.idle": "2021-01-29T07:52:52.648679Z",
     "shell.execute_reply": "2021-01-29T07:52:52.648080Z"
    },
    "papermill": {
     "duration": 0.099969,
     "end_time": "2021-01-29T07:52:52.648816",
     "exception": false,
     "start_time": "2021-01-29T07:52:52.548847",
     "status": "completed"
    },
    "tags": []
   },
   "outputs": [
    {
     "name": "stderr",
     "output_type": "stream",
     "text": [
      "/opt/conda/lib/python3.7/site-packages/sklearn/linear_model/_logistic.py:764: ConvergenceWarning: lbfgs failed to converge (status=1):\n",
      "STOP: TOTAL NO. of ITERATIONS REACHED LIMIT.\n",
      "\n",
      "Increase the number of iterations (max_iter) or scale the data as shown in:\n",
      "    https://scikit-learn.org/stable/modules/preprocessing.html\n",
      "Please also refer to the documentation for alternative solver options:\n",
      "    https://scikit-learn.org/stable/modules/linear_model.html#logistic-regression\n",
      "  extra_warning_msg=_LOGISTIC_SOLVER_CONVERGENCE_MSG)\n"
     ]
    }
   ],
   "source": [
    "X = diabetes_data.iloc[:, :-1]\n",
    "y = diabetes_data.iloc[:, -1]\n",
    "\n",
    "X_train, X_test, y_train, y_test = train_test_split(X, y, test_size=0.2, random_state=156, stratify=y)\n",
    "\n",
    "# StandardScaler 클래스를 이용해 피쳐 데이터 세트에 일괄적으로 스케일링 적용\n",
    "scaler = StandardScaler()\n",
    "X = scaler.fit_transform(X)\n",
    "\n",
    "# 로지스틱 회귀로 학습, 예측 및 평가 수행\n",
    "lr_clf = LogisticRegression()\n",
    "lr_clf.fit(X_train, y_train)\n",
    "pred = lr_clf.predict(X_test)\n",
    "pred_proba = lr_clf.predict_proba(X_test)[:, 1]"
   ]
  },
  {
   "cell_type": "code",
   "execution_count": 16,
   "metadata": {
    "execution": {
     "iopub.execute_input": "2021-01-29T07:52:52.712078Z",
     "iopub.status.busy": "2021-01-29T07:52:52.708447Z",
     "iopub.status.idle": "2021-01-29T07:52:52.720835Z",
     "shell.execute_reply": "2021-01-29T07:52:52.719991Z"
    },
    "papermill": {
     "duration": 0.045728,
     "end_time": "2021-01-29T07:52:52.721006",
     "exception": false,
     "start_time": "2021-01-29T07:52:52.675278",
     "status": "completed"
    },
    "tags": []
   },
   "outputs": [
    {
     "name": "stdout",
     "output_type": "stream",
     "text": [
      "Accuracy: 0.7987012987012987\n",
      "Confusion Matrix:\n",
      "[[89 11]\n",
      " [20 34]]\n",
      "Precision: 0.7555555555555555, Recall: 0.6296296296296297\n",
      "F1: 0.6868686868686867, AUC: 0.8438888888888889\n"
     ]
    }
   ],
   "source": [
    "get_clf_eval(y_test, pred, pred_proba)"
   ]
  },
  {
   "cell_type": "code",
   "execution_count": 17,
   "metadata": {
    "execution": {
     "iopub.execute_input": "2021-01-29T07:52:52.811636Z",
     "iopub.status.busy": "2021-01-29T07:52:52.779228Z",
     "iopub.status.idle": "2021-01-29T07:52:53.058695Z",
     "shell.execute_reply": "2021-01-29T07:52:53.059432Z"
    },
    "papermill": {
     "duration": 0.311606,
     "end_time": "2021-01-29T07:52:53.059723",
     "exception": false,
     "start_time": "2021-01-29T07:52:52.748117",
     "status": "completed"
    },
    "tags": []
   },
   "outputs": [
    {
     "data": {
      "image/png": "[encoded data removed]",
      "text/plain": [
       "<Figure size 576x432 with 1 Axes>"
      ]
     },
     "metadata": {
      "needs_background": "light"
     },
     "output_type": "display_data"
    }
   ],
   "source": [
    "precision_recall_curve_plot(y_test, pred_proba)"
   ]
  },
  {
   "cell_type": "markdown",
   "metadata": {
    "papermill": {
     "duration": 0.041084,
     "end_time": "2021-01-29T07:52:53.143357",
     "exception": false,
     "start_time": "2021-01-29T07:52:53.102273",
     "status": "completed"
    },
    "tags": []
   },
   "source": [
    "앞에서 학습된 로지스틱 회귀 모델을 이용해 임곗값을 0.48로 낮춘 상태에서 다시 예측을 해보겠습니다. 사이킷런의 predict() 메서드는 임곗값을 마음대로 변환할 수 없으므로 별도의 로직으로 이를 구해야 합니다. 앞에서 살펴본 Binarizer 클래스를 이용해 predict_proba()로 추출한 예측 결과 확률값을 변환해 변경된 임곗값에 따른 예측 클래스 값을 구해 보겠습니다."
   ]
  },
  {
   "cell_type": "code",
   "execution_count": 18,
   "metadata": {
    "execution": {
     "iopub.execute_input": "2021-01-29T07:52:53.234421Z",
     "iopub.status.busy": "2021-01-29T07:52:53.233618Z",
     "iopub.status.idle": "2021-01-29T07:52:53.255203Z",
     "shell.execute_reply": "2021-01-29T07:52:53.254611Z"
    },
    "papermill": {
     "duration": 0.070664,
     "end_time": "2021-01-29T07:52:53.255352",
     "exception": false,
     "start_time": "2021-01-29T07:52:53.184688",
     "status": "completed"
    },
    "tags": []
   },
   "outputs": [
    {
     "name": "stdout",
     "output_type": "stream",
     "text": [
      "Accuracy: 0.7987012987012987\n",
      "Confusion Matrix:\n",
      "[[88 12]\n",
      " [19 35]]\n",
      "Precision: 0.7446808510638298, Recall: 0.6481481481481481\n",
      "F1: 0.6930693069306931, AUC: 0.8438888888888889\n"
     ]
    }
   ],
   "source": [
    "# 임곗값을 0.48로 설정한 Binarizer 생성\n",
    "binarizer = Binarizer(threshold=0.48)\n",
    "\n",
    "# 위에서 구한 lr_clf의 predict_proba() 예측 확률 array에서 1에 해당하는 칼럼값을 Binarizer 변환\n",
    "pred_th_048 = binarizer.fit_transform(pred_proba.reshape(-1, 1))\n",
    "\n",
    "get_clf_eval(y_test, pred_th_048, pred_proba)"
   ]
  }
 ],
 "metadata": {
  "kernelspec": {
   "display_name": "Python 3",
   "language": "python",
   "name": "python3"
  },
  "language_info": {
   "codemirror_mode": {
    "name": "ipython",
    "version": 3
   },
   "file_extension": ".py",
   "mimetype": "text/x-python",
   "name": "python",
   "nbconvert_exporter": "python",
   "pygments_lexer": "ipython3",
   "version": "3.7.9"
  },
  "papermill": {
   "default_parameters": {},
   "duration": 11.786102,
   "end_time": "2021-01-29T07:52:53.894308",
   "environment_variables": {},
   "exception": null,
   "input_path": "__notebook__.ipynb",
   "output_path": "__notebook__.ipynb",
   "parameters": {},
   "start_time": "2021-01-29T07:52:42.108206",
   "version": "2.2.2"
  }
 },
 "nbformat": 4,
 "nbformat_minor": 4
}
